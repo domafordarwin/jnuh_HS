{
  "nbformat": 4,
  "nbformat_minor": 0,
  "metadata": {
    "colab": {
      "name": "python_exec_07_26.ipynb",
      "provenance": []
    },
    "kernelspec": {
      "name": "python3",
      "display_name": "Python 3"
    },
    "language_info": {
      "name": "python"
    }
  },
  "cells": [
    {
      "cell_type": "markdown",
      "source": [
        "# Step_01. 코딩으로 문제 해결하기\n",
        "\n",
        "> 파일을 다운로드할 때의 평균 속도(average rate)를 r이라 하고, 다운로드하는 데 걸린 시간(time)을 t라고 할 때, 다운로드한 파일의 용량은 r×t로 계산할 수 있습니다.  \n",
        "다운로드 속도가 초당 800kB이고 다운로드하는 데 걸린 시간이 110초라고 할 때, 다운로드한 파일의 크기는 몇 MB일까요? 단, 1MB=1000kB로 계산합니다."
      ],
      "metadata": {
        "id": "jbYCT4FR6Wgz"
      }
    },
    {
      "cell_type": "code",
      "source": [
        "# 변수: avg_rate, download_time, f_size\n",
        "\n",
        "avg_rate = 800\n",
        "download_time = 110\n",
        "f_size = avg_rate * download_time\n",
        "\n",
        "print(f'다운로드한 파일의 크기는 {f_size} 입니다.')"
      ],
      "metadata": {
        "colab": {
          "base_uri": "https://localhost:8080/"
        },
        "id": "ThQIy8pK6jmG",
        "outputId": "a16d423e-b5e9-416e-d949-f3403b06f0f8"
      },
      "execution_count": 1,
      "outputs": [
        {
          "output_type": "stream",
          "name": "stdout",
          "text": [
            "다운로드한 파일의 크기는 88000 입니다.\n"
          ]
        }
      ]
    },
    {
      "cell_type": "markdown",
      "source": [
        "# Step_02. 자료 목록 만들기"
      ],
      "metadata": {
        "id": "Vux7zsik7WFp"
      }
    },
    {
      "cell_type": "code",
      "source": [
        "family = ['mother', 'father', '아내', '나', '딸', '아들']"
      ],
      "metadata": {
        "id": "vBQjPi9f7eqK"
      },
      "execution_count": 19,
      "outputs": []
    },
    {
      "cell_type": "code",
      "source": [
        "# 가족은 몇 명일까?\n",
        "family"
      ],
      "metadata": {
        "colab": {
          "base_uri": "https://localhost:8080/"
        },
        "id": "1YqipvEP7ufm",
        "outputId": "848a1e35-462c-4d06-b87e-1787cf58a7c5"
      },
      "execution_count": 20,
      "outputs": [
        {
          "output_type": "execute_result",
          "data": {
            "text/plain": [
              "['mother', 'father', '아내', '나', '딸', '아들']"
            ]
          },
          "metadata": {},
          "execution_count": 20
        }
      ]
    },
    {
      "cell_type": "code",
      "source": [
        "print(f'우리 가족은 {family}으로 총 {len(family)}입니다.')"
      ],
      "metadata": {
        "colab": {
          "base_uri": "https://localhost:8080/"
        },
        "id": "eW7N4BM870xS",
        "outputId": "b5d45948-6c1b-4a71-e634-d3d94f9a3e02"
      },
      "execution_count": 21,
      "outputs": [
        {
          "output_type": "stream",
          "name": "stdout",
          "text": [
            "우리 가족은 ['mother', 'father', '아내', '나', '딸', '아들']으로 총 6입니다.\n"
          ]
        }
      ]
    },
    {
      "cell_type": "code",
      "source": [
        "#우리 집의 서열은?\n",
        "print(f'우리 집의 서열 3위는 {family[2]}입니다.')"
      ],
      "metadata": {
        "colab": {
          "base_uri": "https://localhost:8080/"
        },
        "id": "xQaLhjm88Lkl",
        "outputId": "987aa54b-407b-4c2f-ac95-154adb6bfa31"
      },
      "execution_count": 13,
      "outputs": [
        {
          "output_type": "stream",
          "name": "stdout",
          "text": [
            "우리 집의 서열 3위는 아내입니다.\n"
          ]
        }
      ]
    },
    {
      "cell_type": "code",
      "source": [
        "# 강아지도 가족?\n",
        "fet_dog = '한라산'\n",
        "family.append(fet_dog)\n",
        "\n",
        "print(f'어제 {fet_dog}라는 강아지를 한 마리 분양 받았습니다. 그래서 저의 가족은 총 {len(family)} 입니다.')  #\\n\n"
      ],
      "metadata": {
        "colab": {
          "base_uri": "https://localhost:8080/"
        },
        "id": "lhPhUBwC8Zbi",
        "outputId": "00eb078b-7a43-4a44-85c2-94025e10b8bf"
      },
      "execution_count": 17,
      "outputs": [
        {
          "output_type": "stream",
          "name": "stdout",
          "text": [
            "어제 한라산라는 강아지를 한 마리 분양 받았습니다.\n",
            "그래서 저의 가족은 총 9 입니다.\n"
          ]
        }
      ]
    },
    {
      "cell_type": "code",
      "source": [
        "# 지우기는 "
      ],
      "metadata": {
        "id": "3QX0k6I-9hqB"
      },
      "execution_count": null,
      "outputs": []
    },
    {
      "cell_type": "markdown",
      "source": [
        "가족에게 이름을 부여하고 싶네요!"
      ],
      "metadata": {
        "id": "6y4BkcYS-iW_"
      }
    },
    {
      "cell_type": "code",
      "source": [
        "f_name = {'mother':'우아한 맘', 'father':\"멋진 중년\", '아내':'평생 친구', '딸':'선물', '아들':'하늘'}\n",
        "\n",
        "print(f'아들의 이름은 {f_name[\"아들\"]}입니다.')"
      ],
      "metadata": {
        "colab": {
          "base_uri": "https://localhost:8080/"
        },
        "id": "uE0GLu94-q8d",
        "outputId": "40aaf807-e8a0-49a7-d928-3960ebff4247"
      },
      "execution_count": 24,
      "outputs": [
        {
          "output_type": "stream",
          "name": "stdout",
          "text": [
            "아들의 이름은 하늘입니다.\n"
          ]
        }
      ]
    },
    {
      "cell_type": "code",
      "source": [
        "# 가족의 이름을 전부 말하고 싶다면\n",
        "for name in f_name.values():\n",
        "  print(name)"
      ],
      "metadata": {
        "colab": {
          "base_uri": "https://localhost:8080/"
        },
        "id": "WZesjrEZADN9",
        "outputId": "0f1226da-6307-4a1e-a8f6-7c2cc30dabad"
      },
      "execution_count": 25,
      "outputs": [
        {
          "output_type": "stream",
          "name": "stdout",
          "text": [
            "우아한 맘\n",
            "멋진 중년\n",
            "평생 친구\n",
            "선물\n",
            "하늘\n"
          ]
        }
      ]
    },
    {
      "cell_type": "code",
      "source": [
        "# 관계와 이름을 모두 말하고 싶은데\n",
        "for relation, name in f_name.items():\n",
        "  print(\"{relation}의 이름은 {name}입니다.\". format(relation=relation, name=name))"
      ],
      "metadata": {
        "colab": {
          "base_uri": "https://localhost:8080/"
        },
        "id": "8BYTORb1ASOM",
        "outputId": "43045a31-e859-4210-f4f2-70d7faf10085"
      },
      "execution_count": 28,
      "outputs": [
        {
          "output_type": "stream",
          "name": "stdout",
          "text": [
            "mother의 이름은 우아한 맘입니다.\n",
            "father의 이름은 멋진 중년입니다.\n",
            "아내의 이름은 평생 친구입니다.\n",
            "딸의 이름은 선물입니다.\n",
            "아들의 이름은 하늘입니다.\n"
          ]
        }
      ]
    },
    {
      "cell_type": "markdown",
      "source": [
        "# 한 단계 더 나아가기"
      ],
      "metadata": {
        "id": "GhMfg9AsBpnp"
      }
    },
    {
      "cell_type": "code",
      "source": [
        "from urllib.request import urlopen\n",
        "\n",
        "with urlopen('https://raw.githubusercontent.com/domafordarwin/LectureforCheju/main/hope.txt') as story:\n",
        "  story_words = []\n",
        "  for line in story:\n",
        "      line_words = line.decode('utf-8').split()\n",
        "      for word in line_words:\n",
        "          story_words.append(word)\n",
        "\n",
        "for word in story_words:\n",
        "  print(word)"
      ],
      "metadata": {
        "id": "jpeMFHaIBrmF"
      },
      "execution_count": null,
      "outputs": []
    },
    {
      "cell_type": "markdown",
      "source": [
        "# 함수 만들기"
      ],
      "metadata": {
        "id": "v5AiwdZUCeuC"
      }
    },
    {
      "cell_type": "code",
      "source": [
        "def my_cal(x, y):\n",
        "  print(f' 입력받은 값은 {x}, {y}입니다.')\n",
        "  print(f'나의 계산법ㄴ에 따르면 당신은 {x*x +y} 점수를 받게됩니다.')"
      ],
      "metadata": {
        "id": "zZAsEA9gCh2v"
      },
      "execution_count": 35,
      "outputs": []
    },
    {
      "cell_type": "code",
      "source": [
        "my_cal(10, 20)"
      ],
      "metadata": {
        "colab": {
          "base_uri": "https://localhost:8080/"
        },
        "id": "ziLvqjlNC4TQ",
        "outputId": "e29d2e3f-ad10-47e0-ef2d-74fa3f125004"
      },
      "execution_count": 36,
      "outputs": [
        {
          "output_type": "stream",
          "name": "stdout",
          "text": [
            " 입력받은 값은 10, 20입니다.\n",
            "나의 계산법ㄴ에 따르면 당신은 120 점수를 받게됩니다.\n"
          ]
        }
      ]
    },
    {
      "cell_type": "code",
      "source": [
        "my_score = 0\n",
        "print(f' 계산전 내 점수는 {my_score}입니다.')"
      ],
      "metadata": {
        "id": "VHBeXhkpDRkE"
      },
      "execution_count": null,
      "outputs": []
    }
  ]
}